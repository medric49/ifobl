{
 "cells": [
  {
   "cell_type": "code",
   "execution_count": 1,
   "metadata": {
    "pycharm": {
     "name": "#%%\n"
    }
   },
   "outputs": [
    {
     "name": "stderr",
     "output_type": "stream",
     "text": [
      "/home/rob0/miniconda3/envs/sharingan/lib/python3.8/site-packages/gym/spaces/box.py:112: UserWarning: \u001b[33mWARN: Box bound precision lowered by casting to float32\u001b[0m\n",
      "  logger.warn(f\"Box bound precision lowered by casting to {self.dtype}\")\n"
     ]
    }
   ],
   "source": [
    "from matplotlib import pyplot as plt\n",
    "import numpy as np\n",
    "import random\n",
    "\n",
    "import torch\n",
    "import cmc_model\n",
    "import metaworld_env\n",
    "\n",
    "\n",
    "import context_changers\n",
    "\n",
    "import dmc\n",
    "\n",
    "import drqv2\n",
    "import utils\n",
    "\n",
    "import rl_model\n",
    "import imageio"
   ]
  },
  {
   "cell_type": "code",
   "execution_count": 2,
   "metadata": {
    "pycharm": {
     "name": "#%%\n"
    }
   },
   "outputs": [],
   "source": [
    "expert_frame_stack = 3\n",
    "frame_stack = 1\n",
    "action_repeat = 2\n",
    "\n",
    "seed = 897\n",
    "agent_seed = seed\n",
    "\n",
    "episode_len = 40\n",
    "context_camera_ids = [0]\n",
    "learner_camera_id = 0\n",
    "im_w = 64\n",
    "im_h = 64\n",
    "state_dim = 128\n",
    "cam_id = random.choice(context_camera_ids)\n",
    "\n",
    "num_eval_episodes = 1\n",
    "\n",
    "utils.set_seed_everywhere(seed)"
   ]
  },
  {
   "cell_type": "code",
   "execution_count": 3,
   "metadata": {
    "pycharm": {
     "name": "#%%\n"
    }
   },
   "outputs": [
    {
     "name": "stderr",
     "output_type": "stream",
     "text": [
      "/home/rob0/miniconda3/envs/sharingan/lib/python3.8/site-packages/gym/spaces/box.py:112: UserWarning: \u001b[33mWARN: Box bound precision lowered by casting to float32\u001b[0m\n",
      "  logger.warn(f\"Box bound precision lowered by casting to {self.dtype}\")\n"
     ]
    }
   ],
   "source": [
    "# task_name, xml_path, virl_id, rl_id = 'reacher_hard', 'domain_xmls/reacher.xml', 3, 4\n",
    "# context_changer = context_changers.ReacherHardContextChanger()\n",
    "\n",
    "task_name, env_name, cmc_id, rl_id = 'door_open', 'door-open-v2', 2, 4\n",
    "context_changer = context_changers.NullContextChanger()\n",
    "\n",
    "expert: drqv2.DrQV2Agent = drqv2.DrQV2Agent.load(f'exp_local/{task_name}/1/snapshot.pt')\n",
    "expert.train(training=False)\n",
    "\n",
    "encoder = cmc_model.CMCModel.load(f'cmc_exp_local/{task_name}/{cmc_id}/snapshot.pt').to(utils.device())\n",
    "encoder.eval()\n",
    "\n",
    "expert_env = metaworld_env.Env(env_name)\n",
    "expert_env = dmc.wrap(expert_env, expert_frame_stack, action_repeat, episode_len=episode_len)\n",
    "\n",
    "agent = rl_model.RLAgent.load(f'rl_exp_local/{task_name}/{rl_id}/snapshot.pt')\n",
    "agent.eval()"
   ]
  },
  {
   "cell_type": "code",
   "execution_count": 4,
   "metadata": {
    "pycharm": {
     "name": "#%%\n"
    }
   },
   "outputs": [],
   "source": [
    "def evaluate_agent():\n",
    "    render_size = (480, 480)\n",
    "    render_cam = cam_id\n",
    "    expert_actions = []\n",
    "    expert_frames = []\n",
    "    expert_renders = []\n",
    "\n",
    "    \n",
    "\n",
    "    time_step = expert_env.reset()\n",
    "    with utils.change_context(expert_env, context_changer):\n",
    "        frame = expert_env.physics.render(im_w, im_h, camera_id=cam_id)\n",
    "        frame = utils.rgb_to_lab(frame)\n",
    "        expert_frames.append(frame)\n",
    "        expert_renders.append(expert_env.physics.render(*render_size, camera_id=render_cam))\n",
    "\n",
    "    with torch.no_grad():\n",
    "        while not time_step.last():\n",
    "            action = expert.act(time_step.observation, 1, eval_mode=True)\n",
    "            time_step = expert_env.step(action)\n",
    "            expert_actions.append(action)\n",
    "            with utils.change_context(expert_env, context_changer):\n",
    "                frame = expert_env.physics.render(im_w, im_h, camera_id=cam_id)\n",
    "                frame = utils.rgb_to_lab(frame)\n",
    "                expert_frames.append(frame)\n",
    "                expert_renders.append(expert_env.physics.render(*render_size, camera_id=render_cam))\n",
    "    expert_actions = np.array(expert_actions)\n",
    "\n",
    "    expert_obs_sequence = torch.tensor(np.array(expert_frames).transpose((0, 3, 1, 2)), dtype=torch.float, device=utils.device())\n",
    "    expert_state_sequence = encoder.encode_frame(expert_obs_sequence).detach().cpu().numpy()\n",
    "\n",
    "    agent_actions = []\n",
    "    agent_renders = []\n",
    "\n",
    "    eval_env = metaworld_env.Env(env_name, im_w, im_h)\n",
    "    eval_env = dmc.wrap(eval_env, frame_stack, action_repeat, episode_len=episode_len, to_lab=True)\n",
    "    eval_env = dmc.ViRLEncoderStackWrapper(eval_env, expert, encoder,\n",
    "                                                       expert_env,\n",
    "                                                       context_camera_ids,im_w,\n",
    "                                                       im_h, state_dim, frame_stack,\n",
    "                                                       context_changer,\n",
    "                                                       dist_reward=True, to_lab=True)\n",
    "\n",
    "    time_step = eval_env.reset()\n",
    "\n",
    "    agent_renders.append(eval_env.physics.render(*render_size, camera_id=render_cam))\n",
    "\n",
    "    episode_return = time_step.reward\n",
    "    while not time_step.last():\n",
    "        with torch.no_grad(), utils.eval_mode(agent):\n",
    "            state = torch.tensor(time_step.observation, device=utils.device(), dtype=torch.float)\n",
    "            action = agent.act(state, 1, eval_mode=True)\n",
    "        time_step = eval_env.step(action)\n",
    "        episode_return += time_step.reward\n",
    "        agent_actions.append(action)\n",
    "\n",
    "\n",
    "        agent_renders.append(eval_env.physics.render(*render_size, camera_id=render_cam))\n",
    "    agent_actions = np.array(agent_actions)\n",
    "\n",
    "    expert_renders = np.array(expert_renders)\n",
    "    agent_renders = np.array(agent_renders)\n",
    "\n",
    "    renders = np.concatenate([expert_renders, agent_renders], axis=2)\n",
    "    imageio.mimwrite(f'tmp/{task_name}_video.mp4', renders, 'mp4', fps=20)\n",
    "    return episode_return, agent_actions, expert_actions, expert_state_sequence, np.array(eval_env.agent_seq_states), np.array(eval_env.agent_states), eval_env.expert_states, eval_env.expert_seq_states"
   ]
  },
  {
   "cell_type": "markdown",
   "metadata": {
    "pycharm": {
     "name": "#%% md\n"
    }
   },
   "source": [
    "## Evaluations"
   ]
  },
  {
   "cell_type": "code",
   "execution_count": 5,
   "metadata": {
    "pycharm": {
     "name": "#%%\n"
    }
   },
   "outputs": [
    {
     "name": "stdout",
     "output_type": "stream",
     "text": [
      "Found 3 GPUs for rendering. Using device 0.\n"
     ]
    }
   ],
   "source": [
    "episode_return, agent_actions, expert_actions, e_state_seq, a_seq, a_state_seq, t_e_state_seq, t_e_seq = evaluate_agent()"
   ]
  },
  {
   "cell_type": "code",
   "execution_count": 6,
   "metadata": {
    "pycharm": {
     "name": "#%%\n"
    }
   },
   "outputs": [],
   "source": [
    "def encode_state_seq(state_seq):\n",
    "    state_seq = torch.tensor(state_seq, dtype=torch.float, device=utils.device())\n",
    "    z_seq = []\n",
    "    with torch.no_grad():\n",
    "        for i in range(state_seq.shape[0]):\n",
    "            z_seq.append(encoder.encode_state_seq(state_seq[:i+1])[-1].cpu().numpy())\n",
    "    z_seq = np.array(z_seq)\n",
    "    return z_seq"
   ]
  },
  {
   "cell_type": "code",
   "execution_count": 7,
   "metadata": {
    "pycharm": {
     "name": "#%%\n"
    }
   },
   "outputs": [
    {
     "data": {
      "image/png": "[encoded data removed]",
      "text/plain": [
       "<Figure size 1080x360 with 3 Axes>"
      ]
     },
     "metadata": {
      "needs_background": "light"
     },
     "output_type": "display_data"
    }
   ],
   "source": [
    "_, axes = plt.subplots(1, 3, figsize=(15, 5))\n",
    "\n",
    "axes[0].plot(np.linalg.norm(t_e_state_seq - e_state_seq, axis=1), color='purple')\n",
    "axes[1].plot(np.linalg.norm(e_state_seq - a_state_seq, axis=1), color='green')\n",
    "axes[2].plot(np.linalg.norm(t_e_state_seq - a_state_seq, axis=1), color='orange')\n",
    "\n",
    "\n",
    "plt.show()"
   ]
  },
  {
   "cell_type": "code",
   "execution_count": 8,
   "metadata": {
    "pycharm": {
     "name": "#%%\n"
    }
   },
   "outputs": [
    {
     "data": {
      "text/plain": [
       "166.54817"
      ]
     },
     "execution_count": 8,
     "metadata": {},
     "output_type": "execute_result"
    }
   ],
   "source": [
    "np.linalg.norm(t_e_state_seq - e_state_seq, axis=1).sum()"
   ]
  },
  {
   "cell_type": "code",
   "execution_count": 9,
   "metadata": {
    "pycharm": {
     "name": "#%%\n"
    }
   },
   "outputs": [
    {
     "data": {
      "text/plain": [
       "194.27094"
      ]
     },
     "execution_count": 9,
     "metadata": {},
     "output_type": "execute_result"
    }
   ],
   "source": [
    "np.linalg.norm(t_e_state_seq - a_state_seq, axis=1).sum()"
   ]
  },
  {
   "cell_type": "code",
   "execution_count": 10,
   "metadata": {
    "pycharm": {
     "name": "#%%\n"
    }
   },
   "outputs": [],
   "source": [
    "e_seq = encode_state_seq(e_state_seq)"
   ]
  },
  {
   "cell_type": "code",
   "execution_count": 11,
   "metadata": {
    "pycharm": {
     "name": "#%%\n"
    }
   },
   "outputs": [
    {
     "data": {
      "text/plain": [
       "(41, 128)"
      ]
     },
     "execution_count": 11,
     "metadata": {},
     "output_type": "execute_result"
    }
   ],
   "source": [
    "t_e_state_seq.shape"
   ]
  },
  {
   "cell_type": "code",
   "execution_count": 12,
   "metadata": {
    "pycharm": {
     "name": "#%%\n"
    }
   },
   "outputs": [
    {
     "data": {
      "image/png": "[encoded data removed]",
      "text/plain": [
       "<Figure size 432x288 with 1 Axes>"
      ]
     },
     "metadata": {
      "needs_background": "light"
     },
     "output_type": "display_data"
    }
   ],
   "source": [
    "# plt.figure(figsize=(15, 5))\n",
    "\n",
    "plt.plot(np.linalg.norm(t_e_seq - e_seq, axis=1), color='purple')\n",
    "plt.plot(np.linalg.norm(e_seq - a_seq, axis=1), color='green')\n",
    "plt.plot(np.linalg.norm(t_e_seq - a_seq, axis=1), color='orange')\n",
    "\n",
    "plt.show()"
   ]
  },
  {
   "cell_type": "code",
   "execution_count": 13,
   "metadata": {
    "pycharm": {
     "name": "#%%\n"
    }
   },
   "outputs": [
    {
     "data": {
      "text/plain": [
       "2.9257956"
      ]
     },
     "execution_count": 13,
     "metadata": {},
     "output_type": "execute_result"
    }
   ],
   "source": [
    "np.linalg.norm(t_e_seq - e_seq, axis=1)[1:].sum()"
   ]
  },
  {
   "cell_type": "code",
   "execution_count": 14,
   "metadata": {
    "pycharm": {
     "name": "#%%\n"
    }
   },
   "outputs": [
    {
     "data": {
      "text/plain": [
       "332.3152"
      ]
     },
     "execution_count": 14,
     "metadata": {},
     "output_type": "execute_result"
    }
   ],
   "source": [
    "np.linalg.norm(t_e_seq - a_seq, axis=1)[1:].sum()"
   ]
  },
  {
   "cell_type": "code",
   "execution_count": 15,
   "metadata": {
    "pycharm": {
     "name": "#%%\n"
    }
   },
   "outputs": [
    {
     "data": {
      "text/plain": [
       "array([  8.742401  ,  -4.49512   ,   6.7168107 ,   5.776457  ,\n",
       "        -8.664802  ,   7.9194417 ,   5.7353992 ,   8.870883  ,\n",
       "        -3.4775794 ,   6.1059823 ,   3.0926213 ,   6.323736  ,\n",
       "        -5.1520395 ,  -5.7995996 ,   2.8326523 ,  -7.780036  ,\n",
       "        -6.630458  ,   5.6886306 ,   2.9270766 ,   6.0102973 ,\n",
       "         6.018804  ,  -5.55788   ,  -3.4912252 ,   5.656953  ,\n",
       "        -3.377711  ,   5.423179  ,   6.462947  ,  -5.7196183 ,\n",
       "         6.460311  ,  -4.870545  ,  -8.215642  ,  -5.659626  ,\n",
       "        -5.2425222 ,   5.4232774 , -11.689209  ,  -0.1255041 ,\n",
       "        -6.5483236 ,   0.34104645,   4.756819  ,  -2.892199  ,\n",
       "        -3.2020211 ,   3.1885817 ,  -5.9357786 ,  -0.86053693,\n",
       "        -4.136155  ,   6.8377886 ,   4.334624  ,   6.6276264 ,\n",
       "        -6.7847133 ,  -4.9659595 ,   1.3028487 ,   6.1159096 ,\n",
       "        -4.953039  ,   1.3660059 ,  -1.1178031 ,  -3.6309805 ,\n",
       "         7.867197  ,   5.9058003 ,  -6.689775  ,   7.7634263 ,\n",
       "         6.9503584 ,   2.139654  ,  -4.0624995 ,   7.4221106 ,\n",
       "         4.9930897 ,  -6.185512  ,  -5.6567073 ,   5.664844  ,\n",
       "        -7.8272414 ,  -0.06277845,  -8.45514   ,  -5.3722825 ,\n",
       "         0.34788916,   4.4025226 ,   6.4722877 ,   2.2646406 ,\n",
       "        -6.138735  ,  -4.784075  ,   4.3324    ,  10.0379305 ,\n",
       "         9.122386  ,  -6.0339303 ,   9.411983  ,  -5.605613  ,\n",
       "        -5.1169734 ,  -7.9618583 ,   4.6201267 ,   6.0206795 ,\n",
       "        -8.790656  ,  -4.1103525 ,  -7.553896  ,  -6.2572036 ,\n",
       "        -0.12601967,  -7.060729  ,   7.7676487 ,   5.1969204 ,\n",
       "         8.0099325 ,   4.9840584 ,   8.008197  ,  -5.6219926 ,\n",
       "         5.323044  ,  -6.048653  , -10.699081  ,   7.9898963 ,\n",
       "        -3.6658723 ,   8.066047  ,   6.1469965 ,   3.9822135 ,\n",
       "        -6.947187  ,   6.0824265 ,   7.621076  ,  -6.6505265 ,\n",
       "        -1.4261982 ,   6.0064445 ,   3.6426487 ,  -5.0197296 ,\n",
       "        -5.519987  ,  -2.0934837 ,  -5.1304865 ,   5.3320866 ,\n",
       "         9.227202  ,   6.942213  ,  -6.693138  ,   9.078449  ,\n",
       "        -4.0230846 ,   4.601423  ,  -7.1426735 ,  -6.4849024 ],\n",
       "      dtype=float32)"
      ]
     },
     "execution_count": 15,
     "metadata": {},
     "output_type": "execute_result"
    }
   ],
   "source": [
    "e_seq[-1]"
   ]
  },
  {
   "cell_type": "code",
   "execution_count": 16,
   "metadata": {},
   "outputs": [
    {
     "data": {
      "text/plain": [
       "array([  8.962039  ,  -4.651609  ,   7.1290216 ,   5.595417  ,\n",
       "        -8.486609  ,   8.066858  ,   5.3015    ,   8.342544  ,\n",
       "        -3.2881694 ,   5.7739124 ,   3.483581  ,   6.188843  ,\n",
       "        -5.131013  ,  -5.880916  ,   2.8273041 ,  -7.989746  ,\n",
       "        -6.587256  ,   5.993829  ,   2.7095382 ,   5.659047  ,\n",
       "         5.883126  ,  -5.3799667 ,  -3.5281978 ,   5.5735517 ,\n",
       "        -3.430886  ,   5.0334735 ,   6.305044  ,  -5.9868016 ,\n",
       "         6.6010394 ,  -4.493666  ,  -7.7672734 ,  -5.3231764 ,\n",
       "        -5.2136207 ,   5.2768183 , -12.522626  ,  -0.22875327,\n",
       "        -6.309162  ,   0.3792358 ,   4.8674507 ,  -2.7247872 ,\n",
       "        -3.3440816 ,   3.0035512 ,  -5.5889106 ,  -0.7985757 ,\n",
       "        -4.1424313 ,   6.82072   ,   4.377038  ,   6.762917  ,\n",
       "        -6.459985  ,  -4.8923707 ,   1.618865  ,   6.5029078 ,\n",
       "        -4.698036  ,   1.206056  ,  -0.95061105,  -3.288407  ,\n",
       "         7.4534364 ,   5.604515  ,  -6.8473387 ,   8.120766  ,\n",
       "         7.0606155 ,   2.4192607 ,  -4.196768  ,   7.1260743 ,\n",
       "         5.2077913 ,  -5.8730984 ,  -5.760775  ,   5.6155415 ,\n",
       "        -7.6947575 ,   0.04393192,  -8.9393635 ,  -5.1902027 ,\n",
       "         0.5386017 ,   4.3724775 ,   6.5167527 ,   2.541872  ,\n",
       "        -5.8696074 ,  -4.871514  ,   4.510156  ,  10.486263  ,\n",
       "         9.558951  ,  -6.295964  ,   9.9391    ,  -5.7908707 ,\n",
       "        -4.871997  ,  -8.048365  ,   4.7094016 ,   6.041273  ,\n",
       "        -8.831887  ,  -4.0658774 ,  -7.269718  ,  -6.057021  ,\n",
       "         0.16043562,  -6.863642  ,   7.610815  ,   5.1187315 ,\n",
       "         8.080134  ,   4.7641234 ,   8.18419   ,  -5.2931414 ,\n",
       "         5.325539  ,  -6.2075024 , -11.241204  ,   7.9616446 ,\n",
       "        -3.4601624 ,   8.200829  ,   5.9276195 ,   3.848293  ,\n",
       "        -6.5991645 ,   5.771053  ,   7.5026836 ,  -6.2504735 ,\n",
       "        -1.3070366 ,   5.843194  ,   3.4301648 ,  -5.004491  ,\n",
       "        -5.229176  ,  -2.1310627 ,  -5.236603  ,   5.336961  ,\n",
       "         9.69475   ,   6.65599   ,  -6.472796  ,   9.498754  ,\n",
       "        -4.3536763 ,   4.369864  ,  -7.0723124 ,  -6.278592  ],\n",
       "      dtype=float32)"
      ]
     },
     "execution_count": 16,
     "metadata": {},
     "output_type": "execute_result"
    }
   ],
   "source": [
    "a_seq[-1]"
   ]
  },
  {
   "cell_type": "code",
   "execution_count": null,
   "metadata": {},
   "outputs": [],
   "source": []
  }
 ],
 "metadata": {
  "kernelspec": {
   "display_name": "Python 3 (ipykernel)",
   "language": "python",
   "name": "python3"
  },
  "language_info": {
   "codemirror_mode": {
    "name": "ipython",
    "version": 3
   },
   "file_extension": ".py",
   "mimetype": "text/x-python",
   "name": "python",
   "nbconvert_exporter": "python",
   "pygments_lexer": "ipython3",
   "version": "3.8.12"
  }
 },
 "nbformat": 4,
 "nbformat_minor": 1
}
